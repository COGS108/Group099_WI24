{
 "cells": [
  {
   "cell_type": "markdown",
   "metadata": {},
   "source": [
    "# COGS 108 - Project Proposal"
   ]
  },
  {
   "cell_type": "markdown",
   "metadata": {},
   "source": [
    "# Names\n",
    "\n",
    "- Nicole Kim\n",
    "- Rikako Ono\n",
    "- Geena Limfat\n",
    "- MyungJoo Kim\n",
    "- Elizaveta Beltyukova"
   ]
  },
  {
   "cell_type": "markdown",
   "metadata": {},
   "source": [
    "# Research Question"
   ]
  },
  {
   "cell_type": "markdown",
   "metadata": {},
   "source": [
    "How can we predict when car accidents are most likely to happen in the United States? What factors can we depend on to make an assumption?\n"
   ]
  },
  {
   "cell_type": "markdown",
   "metadata": {},
   "source": [
    "## Background and Prior Work"
   ]
  },
  {
   "cell_type": "markdown",
   "metadata": {},
   "source": [
    "\n",
    "Over the years, cars have become safer whether it be through improvements in structural design or the development of new technologies.\n",
    "Despite such progressions, however, the frequency of car accidents has risen significantly over the last several years.\n",
    "These include less researched technology, regenerative braking, increased total mass, and faster acceleration.\n",
    "Specifically, there were 6,102,936 police-reported vehicle accidents in the United States in just the year 2021 itself <a name=\"cite_ref-3\"></a>[<sup>3</sup>](#cite_note-3)\n",
    "\n",
    "According to the U.S. Environmental Protection Agency, EVs must meet the same safety standards as conventional vehicles and are designed with additional safety features that shut down the electrical system when necessary (which is important when thinking of the likelihood of a vehicle catching on fire).\n",
    " A study highlighted by Electrek shows that gasoline vehicles are up to 100 times more prone to fires than EVs, making EVs a safer option in this regard.<a name=\"cite_ref-1\"></a>[<sup>1</sup>](#cite_note-1) That being said, experts are worried that certain features of EVs could pose a safety threat. \n",
    "One of those features includes the quick acceleration compared to gas vehicles.\n",
    "For those drivers who aren’t used to EVs, the acceleration could be startling, potentially causing more high-speed crashes.<a name=\"cite_ref-2\"></a>[<sup>2</sup>](#cite_note-2) Another perspective of safety to consider is a threat to other drivers.\n",
    "The quicker acceleration and larger mass of EVs could mean more deaths on the road and more impactful accidents.<a name=\"cite_ref-4\"></a>[<sup>4</sup>](#cite_note-4) \n",
    "\n",
    "1. <a name=\"cite_note-1\"></a> [^](#cite_ref-1) [Doll, Scooter. “Government Data Show Gasoline Vehicles Are up to 100x More Prone to Fires than Evs.” *Electrek*, 20 Dec. 2023](https://electrek.co/2022/01/12/government-data-shows-gasoline-vehicles-are-significantly-more-prone-to-fires-than-evs/) \n",
    "2. <a name=\"cite_note-2\"></a> [^](#cite_ref-2) [Arbelaez, Raul. “As Heavy EVS Proliferate, Their Weight May Be a Drag on Safety.” *IIHS*, 9 Mar. 2023](https://www.iihs.org/news/detail/as-heavy-evs-proliferate-their-weight-may-be-a-drag-on-safety#:~:text=Electric%20vehicles%20are%20just%20as,other%20road%20users%20at%20risk) \n",
    "3. <a name=\"cite_note-3\"></a> [^](#cite_ref-3) [Capparella, Joey. “Electric Cars vs. Gas Cars: Everything You Need to Know.” *Car and Driver*](https://www.caranddriver.com/research/a32781943/electric-cars-vs-gas-cars/) \n",
    "4. <a name=\"cite_note-4\"></a> [^](#cite_ref-4) [Cleave, Kris Van. “As Electric Vehicles Become More Common, Experts Worry They Could Pose a Safety Risk for Other Drivers.” *CBS News*, CBS Interactive, 13 June 2023](https://www.cbsnews.com/news/electric-vehicle-safety-heavy-battery/) \n"
   ]
  },
  {
   "cell_type": "markdown",
   "metadata": {},
   "source": [
    "# Hypothesis\n"
   ]
  },
  {
   "cell_type": "markdown",
   "metadata": {},
   "source": [
    "\n",
    "We hypothesize that car accidents will happen most frequently around the holiday season because of various factors such as the increase of vacations which leads to an increase in traffic, and the influence of alcohol.\n",
    "Additionally, we feel that there will be more accidents on weekday mornings, due to a high volume of commuters to work and school.\n",
    "In particular, we feel that innovative features such as autopilot and regenerative braking can negatively affect electric vehicle drivers.\n"
   ]
  },
  {
   "cell_type": "markdown",
   "metadata": {},
   "source": [
    "# Data"
   ]
  },
  {
   "cell_type": "markdown",
   "metadata": {},
   "source": [
    "Variables: Time of Day, Days of the week, Month, Alcohol involvement,  Number of pedestrians, Severity of the accident \n",
    "\n",
    "The ideal data set would contain the specific variables that we are observing along with any additional information that may help reduce biases and the location would be clearly stated to help reduce biases. The dataset would span multiple years in the United States as it would allow us to compare the data collected and identify any possible trends. The data should compare traffic statistics on various timeline bases, including daily, weekly, monthly, yearly, etc. We should be able to compare correlations between variables such as alcohol involvement, number of pedestrians, and severity of the accident (measured by the number of people injured). \n",
    "\n",
    "Ideally, the data collected would be as numbers so the data will be cleaner and easier to represent. There would also be a descriptive key/scale that tells us how to interpret the data. The data should be collected by the National Center for Statistics and Analysis(NHTSA) or any other official government department specializing in this area. Roughly 259,000  observations are required as NHTSA collected 259,077 US Traffic Accident data sets from 2016-2020. The data should be organized in CSV file format, without the null or empty cell with a consistent variable name to be tidy data. \n",
    "\n"
   ]
  },
  {
   "cell_type": "markdown",
   "metadata": {},
   "source": [
    "# Ethics & Privacy"
   ]
  },
  {
   "cell_type": "markdown",
   "metadata": {},
   "source": [
    "There should not be an issue with any biases from the source of collection because the agency that collected the data was the NHTSA which is the National Highway Traffic Safety Administration. Since this is a reputable government organization in charge of collecting and organizing the data, we can assume that there are no demographic/ethnic biases when collecting the data. However, there may be biases in which accidents were reported to the government as there may be racial/ethical biases when it came to reporting the accidents to the government. This may exclude certain demographics of people or target others, but as we are not focusing on race/demographics, it should not affect our data analysis as much. Additionally, since the data is vastly spread across the country and over four years, the data should even out itself. The large dataset will also aid in protecting the privacy of the people involved in the accidents as they fall under police jurisdiction regions but do not specify exactly where the accident occurred.  \n",
    "\n",
    "One factor we may fail to fully consider is the location and its impact on each accident.\n",
    "For example, there may be weather conditions or other variables that we are unable to record that may be the main reason for the accident, yet we concluded a different reasoning with the information we analyzed. However, this should still be acceptable as the main goal of our hypothesis and research is to find out how certain factors consistently result in an accident. In other words, our focus is more on concluding if there will be an accident if a certain variable is present, rather than which variable is the most crucial out of all variables to lead to an accident.\n",
    "\n",
    "In the dataset that we are using, we must also take into account the COVID-19 Pandemic as it states that between the months of May and March the data will be more sparse because there were less people on the road. We will take into account this bias in our analysis as we understand that trends should be skewed because of this event.\n",
    "\n",
    "We will detect these specific biases before analysis by thoroughly discussing our research question before finding datasets and identifying any additional variables that would skew our data and affect our question. During data analysis, we will identify any points in the data that do not match up with the rest of the data and conduct additional research to identify whether those specific data points are abnormalities or whether they are biases that we did not take into account before. Then, we will explain the abnormalities/biases in our analysis and discuss how this affects our data. After we have already written our analysis of the data, we will proofread our conclusion for any other biases that may stand out and if they do occur, we will revise and address them again. Additionally, we may conduct a peer review (if allowed) with another group so we can have unbiased feedback.  \n"
   ]
  },
  {
   "cell_type": "markdown",
   "metadata": {},
   "source": [
    "# Team Expectations "
   ]
  },
  {
   "cell_type": "markdown",
   "metadata": {},
   "source": [
    "\n",
    "* *Keep in touch with group members via iMessage or Discord groupchat.*\n",
    "* *Fill out When2Meet's on time in order to coordinate meeting times.*\n",
    "* *Complete individually assigned tasks on time.*\n",
    "* *Communicate promptly if any change of plans arises.*\n"
   ]
  },
  {
   "cell_type": "markdown",
   "metadata": {},
   "source": [
    "# Project Timeline Proposal"
   ]
  },
  {
   "cell_type": "markdown",
   "metadata": {},
   "source": [
    "| Meeting Date  | Meeting Time| Completed Before Meeting  | Discuss at Meeting |\n",
    "|---|---|---|---|\n",
    "| 2/3  |  12 PM | Determind best form of communication  | Complete Previous Project Review Assignment | \n",
    "| 2/7  |  6:30PM |  Brainstorm ideas for project | Work on Project Proposal Assignment | \n",
    "| 2/12 | 8:30 PM |  Brainstorm any new ideas for project + potential datasets | Finish Project Proposal Assignment|\n",
    "| 2/17  | 12 PM | Find Data and work on Research  | Work on Checkpoint #1: Data   |\n",
    "| 2/25  | 6:30 PM  | Import & Wrangle Data | Complete Checkpoint #1: Data   |\n",
    "| 3/2 | 12 PM  | Work on Assigned Tasks | Work on Checkpoint #2: EDA |\n",
    "| 3/10  | 6:30 PM  | Complete analysis; Draft results/conclusion/discussion | Complete Checkpoint #2: EDA  |\n",
    "| 3/? | 12 PM  | Work on assigned Tasks | Work together to discuss and wrap up the Final Project |\n",
    "| 3/20  | Before 11:59 PM  | Make final edits and prepare to turn in Final Project | Turn in Final Project & Group Project Surveys |"
   ]
  }
 ],
 "metadata": {
  "kernelspec": {
   "display_name": "Python 3 (ipykernel)",
   "language": "python",
   "name": "python3"
  },
  "language_info": {
   "codemirror_mode": {
    "name": "ipython",
    "version": 3
   },
   "file_extension": ".py",
   "mimetype": "text/x-python",
   "name": "python",
   "nbconvert_exporter": "python",
   "pygments_lexer": "ipython3",
   "version": "3.9.7"
  }
 },
 "nbformat": 4,
 "nbformat_minor": 2
}
