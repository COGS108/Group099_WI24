{
 "cells": [
  {
   "cell_type": "markdown",
   "metadata": {},
   "source": [
    "**If you lost points on the last checkpoint you can get them back by responding to TA/IA feedback**  \n",
    "\n",
    "Update/change the relevant sections where you lost those points, make sure you respond on GitHub Issues to your TA/IA to call their attention to the changes you made here.\n",
    "\n",
    "Please update your Timeline... no battle plan survives contact with the enemy, so make sure we understand how your plans have changed."
   ]
  },
  {
   "cell_type": "markdown",
   "metadata": {},
   "source": [
    "# COGS 108 - Data Checkpoint"
   ]
  },
  {
   "cell_type": "markdown",
   "metadata": {},
   "source": [
    "# Names\n",
    "\n",
    "- Nicole Kim\n",
    "- Rikako Ono\n",
    "- Geena Limfat\n",
    "- MyungJoo Kim\n",
    "- Elizaveta Beltyukova"
   ]
  },
  {
   "cell_type": "markdown",
   "metadata": {},
   "source": [
    "# Research Question"
   ]
  },
  {
   "cell_type": "markdown",
   "metadata": {},
   "source": [
    "Does higher usage of public transportation in a county affect the number of car crashes in that county? "
   ]
  },
  {
   "cell_type": "markdown",
   "metadata": {},
   "source": [
    "## Background and Prior Work"
   ]
  },
  {
   "cell_type": "markdown",
   "metadata": {},
   "source": [
    "\n",
    "Over the years, cars have become safer whether it be through improvements in structural design or the development of new technologies.\n",
    "Despite such progressions, however, the frequency of car accidents has risen significantly over the last several years.\n",
    "These include less researched technology, regenerative braking, increased total mass, and faster acceleration.\n",
    "Specifically, there were 6,102,936 police-reported vehicle accidents in the United States in just the year 2021 itself<a name=\"cite_ref-3\"></a>[<sup>3</sup>](#cite_note-3).\n",
    "\n",
    "Interestingly, the factors influencing car crashes in the United States are quite diverse. Accidents can be the result of negative behaviors such as distracted driving, speeding, drunk driving, reckless driving, and tailgating<a name=\"cite_ref-1\"></a>[<sup>1</sup>](#cite_note-1).\n",
    "In fact, more than a third (36%) of all fatal crashes involve alcohol<a name=\"cite_ref-3\"></a>[<sup>3</sup>](#cite_note-3).\n",
    "All of these factors contribute to the high rate of car accidents in the US, making it crucial for individuals and authorities to address these issues through awareness, preventive measures, and effective policies to improve road safety. \n",
    "\n",
    "Accidents can even correlate to variables as general as the state one is in, to those as specific as the month, day, and even hour. For instance, there is previous work that has been done to analyze the frequency of car crashes based on days and times of the week.\n",
    "This analysis was conducted by NSC, which used data from 2021 and analyzed the frequency of fatal and non-fatal car crashes based on the time of the day and week.\n",
    "They concluded that for warmer months (spring and summer), fatal crashes peaked in the late evening and night (8 p.m. and midnight), meanwhile, for winter and early spring, the fatal crashes peaked between 4 and 8 p.m.<a name=\"cite_ref-2\"></a>[<sup>2</sup>](#cite_note-2)\n",
    "Another observation that could be extracted from their analysis is that more crashes tended to happen closer to the end of the week (Friday to Sunday). This will be interesting to contrast with our analysis later on to see if it’s consistent with our findings for the years 2016-2020.\n",
    "1. <a name=\"cite_note-1\"></a> [^](#cite_ref-1) [*Top 25 causes of car accidents: Exploring the major factors.* GJEL Accident Attorneys. (2023, November 24).](https://www.gjel.com/car-accident-lawyers/top-causes-car-accidents/) \n",
    "2. <a name=\"cite_note-2\"></a> [^](#cite_ref-2) [*Car crashes by time of day and day of week.* Injury Facts. (2023, April 18). ](https://injuryfacts.nsc.org/motor-vehicle/overview/crashes-by-time-of-day-and-day-of-week/) \n",
    "3. <a name=\"cite_note-3\"></a> [^](#cite_ref-3) [Moore, T. *Fatal car crash statistics 2024.* USA Today. (2024, January 16).](https://www.usatoday.com/money/blueprint/auto-insurance/fatal-car-crash-statistics/#:~:text=There%20are%20nearly%2043%2C000%20fatal,accidents%20in%20the%20United%20States.&text=Of%20those%2C%2039%2C508%20were%20fatal) \n"
   ]
  },
  {
   "cell_type": "markdown",
   "metadata": {},
   "source": [
    "# Hypothesis\n"
   ]
  },
  {
   "cell_type": "markdown",
   "metadata": {},
   "source": [
    "DELETE BELOW BULLETS LATER ONCE FIXED FEEDBACK ISSUES\n",
    "- Include your team's hypothesis\n",
    "- Ensure that this hypothesis is clear to readers\n",
    "- Explain why you think this will be the outcome (what was your thinking?)\n",
    "- What is your main hypothesis/predictions about what the answer to your question is? Briefly explain your thinking. (2-3 sentences)\n",
    "\n",
    "Alternate Hypothesis: We hypothesize that higher use of public transportation lessens the number of accidents due to several factors. One of the factors being that public transportation involves professional drivers who go through rigorous training to operate the mode of transportation that they are in charge of and may adhere more strictly to traffic regulations and safety protocols which can reduce the likelihood of accidents. Therefore, they will be better experienced and equipped to handle situations that may cause accidents. Additionally, a higher usage of public transportation will result in fewer vehicles on the road which can reduce congestion and lower the probability of accidents. Thus, we hypothesize that a higher utilization of public transportation could contribute to a safer transportation environment and reduce the number of accidents on the road.\n",
    "\n",
    "Null Hypothesis: The use of public transportation does not affect the number of car crashes"
   ]
  },
  {
   "cell_type": "markdown",
   "metadata": {},
   "source": [
    "# Data"
   ]
  },
  {
   "cell_type": "markdown",
   "metadata": {},
   "source": [
    "## Data overview\n",
    "\n",
    "For each dataset include the following information\n",
    "- Dataset #1\n",
    "  - Dataset Name: US Accidents\n",
    "  - Link to the dataset: https://www.kaggle.com/datasets/sobhanmoosavi/us-accidents?select=US_Accidents_March23.csv\n",
    "  - Number of observations: 7,728,394\n",
    "  - Number of variables: 46\n",
    "- Dataset #2 (if you have more than one!)\n",
    "  - Dataset Name: Highest Public Transit Usage Cities in California\n",
    "  - Link to the dataset: https://www.homearea.com/rankings/place-in-ca/percent_using_public_transportation/#:~:text=The%20California%20percent%20using%20public,year%20saw%20several%20big%20changes\n",
    "  - Number of observations: 62\n",
    "  - Number of variables: 3\n",
    "- etc\n",
    "\n",
    "Now write 2 - 5 sentences describing each dataset here. Include a short description of the important variables in the dataset; what the metrics and datatypes are, what concepts they may be proxies for. Include information about how you would need to wrangle/clean/preprocess the dataset\n",
    "\n",
    "If you plan to use multiple datasets, add a few sentences about how you plan to combine these datasets."
   ]
  },
  {
   "cell_type": "markdown",
   "metadata": {},
   "source": [
    "## Dataset #1 (use name instead of number here)"
   ]
  },
  {
   "cell_type": "code",
   "execution_count": null,
   "metadata": {},
   "outputs": [],
   "source": [
    "## YOUR CODE TO LOAD/CLEAN/TIDY/WRANGLE THE DATA GOES HERE\n",
    "## FEEL FREE TO ADD MULTIPLE CELLS PER SECTION "
   ]
  },
  {
   "cell_type": "markdown",
   "metadata": {},
   "source": [
    "## Dataset #2 (if you have more than one, use name instead of number here)"
   ]
  },
  {
   "cell_type": "code",
   "execution_count": null,
   "metadata": {},
   "outputs": [],
   "source": [
    "## YOUR CODE TO LOAD/CLEAN/TIDY/WRANGLE THE DATA GOES HERE\n",
    "## FEEL FREE TO ADD MULTIPLE CELLS PER SECTION "
   ]
  },
  {
   "cell_type": "markdown",
   "metadata": {},
   "source": [
    "# Ethics & Privacy"
   ]
  },
  {
   "cell_type": "markdown",
   "metadata": {},
   "source": [
    "There should not be an issue with any biases from the source of collection because the agency that collected the data was the NHTSA which is the National Highway Traffic Safety Administration.\n",
    "Since this is a reputable government organization in charge of collecting and organizing the data, we can assume that there are no demographic/ethnic biases when collecting the data.\n",
    "However, there may be biases in which accidents were reported to the government as there may be racial/ethical biases when it came to reporting the accidents to the government.\n",
    "This may exclude certain demographics of people or target others, but as we are not focusing on race/demographics, it should not affect our data analysis as much. Additionally, since the data is vastly spread across the country and over four years, the data should even out itself.\n",
    "The large dataset will also aid in protecting the privacy of the people involved in the accidents as they fall under police jurisdiction regions but do not specify exactly where the accident occurred.\n",
    "\n",
    "One factor we may fail to fully consider is the location and its impact on each accident.\n",
    "For example, there may be weather conditions or other variables that we are unable to record that may be the main reason for the accident, yet we concluded a different reasoning with the information we analyzed.\n",
    "However, this should still be acceptable as the main goal of our hypothesis and research is to find out how certain factors consistently result in an accident.\n",
    "In other words, our focus is more on concluding if there will be an accident if a certain variable is present, rather than which variable is the most crucial out of all variables to lead to an accident.\n",
    "\n",
    "In the dataset that we are using, we must also take into account the COVID-19 Pandemic as it states that between the months of May and March the data will be more sparse because there were less people on the road.\n",
    "We will take into account this bias in our analysis as we understand that trends should be skewed because of this event.\n",
    "\n",
    "We will detect these specific biases before analysis by thoroughly discussing our research question before finding datasets and identifying any additional variables that would skew our data and affect our question.\n",
    "During data analysis, we will identify any points in the data that do not match up with the rest of the data and conduct additional research to identify whether those specific data points are abnormalities or whether they are biases that we did not take into account before.\n",
    "Then, we will explain the abnormalities/biases in our analysis and discuss how this affects our data.\n",
    "After we have already written our analysis of the data, we will proofread our conclusion for any other biases that may stand out and if they do occur, we will revise and address them again.\n",
    "Additionally, we may conduct a peer review (if allowed) with another group so we can have unbiased feedback.\n"
   ]
  },
  {
   "cell_type": "markdown",
   "metadata": {},
   "source": [
    "# Team Expectations "
   ]
  },
  {
   "cell_type": "markdown",
   "metadata": {},
   "source": [
    "\n",
    "* *Keep in touch with group members via iMessage or Discord groupchat.*\n",
    "* *Fill out When2Meet's on time in order to coordinate meeting times.*\n",
    "* *Complete individually assigned tasks on time.*\n",
    "* *Communicate promptly if any change of plans arises.*\n"
   ]
  },
  {
   "cell_type": "markdown",
   "metadata": {},
   "source": [
    "# Project Timeline Proposal"
   ]
  },
  {
   "cell_type": "markdown",
   "metadata": {},
   "source": [
    "| Meeting Date  | Meeting Time| Completed Before Meeting  | Discuss at Meeting |\n",
    "|---|---|---|---|\n",
    "| 2/3  |  12 PM | Determind best form of communication  | Complete Previous Project Review Assignment | \n",
    "| 2/7  |  6:30PM |  Brainstorm ideas for project | Work on Project Proposal Assignment | \n",
    "| 2/12 | 8:30 PM |  Brainstorm any new ideas for project + potential datasets | Finish Project Proposal Assignment|\n",
    "| 2/17  | 12 PM | Find Data and work on Research  | Work on Checkpoint #1: Data   |\n",
    "| 2/25  | 6:30 PM  | Import & Wrangle Data | Complete Checkpoint #1: Data   |\n",
    "| 3/2 | 12 PM  | Work on Assigned Research Tasks | Work on Checkpoint #2: EDA |\n",
    "| 3/2 - 3/10 | between meetings | Each person should work on the assigned section of the Data Checkpoint that they were assigned to. Update teammates on any issues or interesting findings. |\n",
    "| 3/10 | 6:30 PM  | Complete analysis; Draft results/conclusion/discussion | Complete Checkpoint #2: EDA  |\n",
    "| 3/15 | 12 PM  | Work on assigned Tasks | Work together to discuss and wrap up the Final Project |\n",
    "| 3/20  | Before 11:59 PM  | Make final edits and prepare to turn in Final Project | Turn in Final Project & Group Project Surveys |"
   ]
  }
 ],
 "metadata": {
  "kernelspec": {
   "display_name": "Python 3 (ipykernel)",
   "language": "python",
   "name": "python3"
  },
  "language_info": {
   "codemirror_mode": {
    "name": "ipython",
    "version": 3
   },
   "file_extension": ".py",
   "mimetype": "text/x-python",
   "name": "python",
   "nbconvert_exporter": "python",
   "pygments_lexer": "ipython3",
   "version": "3.9.7"
  }
 },
 "nbformat": 4,
 "nbformat_minor": 2
}
