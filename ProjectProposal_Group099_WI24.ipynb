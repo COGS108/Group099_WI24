{
 "cells": [
  {
   "cell_type": "markdown",
   "metadata": {},
   "source": [
    "# COGS 108 - Project Proposal"
   ]
  },
  {
   "cell_type": "markdown",
   "metadata": {},
   "source": [
    "# Names\n",
    "\n",
    "- Nicole Kim\n",
    "- Rikako Ono\n",
    "- Geena Limfat\n",
    "- MyungJoo Kim\n",
    "- Elizaveta Beltyukova"
   ]
  },
  {
   "cell_type": "markdown",
   "metadata": {},
   "source": [
    "# Research Question"
   ]
  },
  {
   "cell_type": "markdown",
   "metadata": {},
   "source": [
    "Are more accidents caused by gas cars or electric cars in California?\n"
   ]
  },
  {
   "cell_type": "markdown",
   "metadata": {},
   "source": [
    "## Background and Prior Work"
   ]
  },
  {
   "cell_type": "markdown",
   "metadata": {},
   "source": [
    "\n",
    "- Include a general introduction to your topic\n",
    "- Include explanation of what work has been done previously\n",
    "- Include citations or links to previous work\n",
    "\n",
    "This section will present the background and context of your topic and question in a few paragraphs. Include a general introduction to your topic and then describe what information you currently know about the topic after doing your initial research. Include references to other projects who have asked similar questions or approached similar problems. Explain what others have learned in their projects.\n",
    "\n",
    "Find some relevant prior work, and reference those sources, summarizing what each did and what they learned. Even if you think you have a totally novel question, find the most similar prior work that you can and discuss how it relates to your project.\n",
    "\n",
    "References can be research publications, but they need not be. Blogs, GitHub repositories, company websites, etc., are all viable references if they are relevant to your project. It must be clear which information comes from which references. (2-3 paragraphs, including at least 2 references)\n",
    "\n",
    " **Use inline citation through HTML footnotes to specify which references support which statements** \n",
    "\n",
    "For example: After government genocide in the 20th century, real birds were replaced with surveillance drones designed to look just like birds.<a name=\"cite_ref-1\"></a>[<sup>1</sup>](#cite_note-1) Use a minimum of 2 or 3 citations, but we prefer more.<a name=\"cite_ref-2\"></a>[<sup>2</sup>](#cite_note-2) You need enough to fully explain and back up important facts. \n",
    "\n",
    "Note that if you click a footnote number in the paragraph above it will transport you to the proper entry in the footnotes list below.  And if you click the ^ in the footnote entry, it will return you to the place in the main text where the footnote is made.\n",
    "\n",
    "To understand the HTML here, `<a name=\"#...\"> </a>` is a tag that allows you produce a named reference for a given location.  Markdown has the construciton `[text with hyperlink](#named reference)` that will produce a clickable link that transports you the named reference.\n",
    "\n",
    "1. <a name=\"cite_note-1\"></a> [^](#cite_ref-1) Lorenz, T. (9 Dec 2021) Birds Aren’t Real, or Are They? Inside a Gen Z Conspiracy Theory. *The New York Times*. https://www.nytimes.com/2021/12/09/technology/birds-arent-real-gen-z-misinformation.html \n",
    "2. <a name=\"cite_note-2\"></a> [^](#cite_ref-2) Also refs should be important to the background, not some randomly chosen vaguely related stuff. Include a web link if possible in refs as above.\n"
   ]
  },
  {
   "cell_type": "markdown",
   "metadata": {},
   "source": [
    "# Hypothesis\n"
   ]
  },
  {
   "cell_type": "markdown",
   "metadata": {},
   "source": [
    "\n",
    "We hypothesize that electric vehicles cause more accidents than traditional gas cars in California because electric vehicles are a newer invention with less conventional features.\n",
    "We expect electric vehicles to have less well-tested features in comparison to traditional cars, which have been developed for over a hundred years.\n",
    "In particular, we feel that innovative features such as autopilot and regenerative braking can negatively affect electric vehicle drivers.\n"
   ]
  },
  {
   "cell_type": "markdown",
   "metadata": {},
   "source": [
    "# Data"
   ]
  },
  {
   "cell_type": "markdown",
   "metadata": {},
   "source": [
    "The ideal data set would contrast the accident rate between gas and electric vehicles. To compare the general trend of the accidents, the variables should include year, type of vehicles, and number of accidents/accident rate.\n",
    "Roughly 2,500,000 observations are required as 250,000 accidents occur per year and 10 years would be the ideal time frame to get the distribution over the period.\n",
    "The data should be collected by the California Office of Traffic Safety (OTS) or any other official government department specializing in this area.\n",
    "The data should compare city traffic statistics on a different timeline basis, including weekly, yearly, etc. The data should be organized in CSV file format, without the null or empty cell with a consistent variable name to be tidy data.\n"
   ]
  },
  {
   "cell_type": "markdown",
   "metadata": {},
   "source": [
    "# Ethics & Privacy"
   ]
  },
  {
   "cell_type": "markdown",
   "metadata": {},
   "source": [
    "- Thoughtful discussion of ethical concerns included\n",
    "- Ethical concerns consider the whole data science process (question asked, data collected, data being used, the bias in data, analysis, post-analysis, etc.)\n",
    "- How your group handled bias/ethical concerns clearly described\n",
    "\n",
    "Acknowledge and address any ethics & privacy related issues of your question(s), proposed dataset(s), and/or analyses. Use the information provided in lecture to guide your group discussion and thinking. If you need further guidance, check out [Deon's Ethics Checklist](http://deon.drivendata.org/#data-science-ethics-checklist). In particular:\n",
    "\n",
    "- Are there any biases/privacy/terms of use issues with the data you propsed?\n",
    "- Are there potential biases in your dataset(s), in terms of who it composes, and how it was collected, that may be problematic in terms of it allowing for equitable analysis? (For example, does your data exclude particular populations, or is it likely to reflect particular human biases in a way that could be a problem?)\n",
    "- How will you set out to detect these specific biases before, during, and after/when communicating your analysis?\n",
    "- Are there any other issues related to your topic area, data, and/or analyses that are potentially problematic in terms of data privacy and equitable impact?\n",
    "- How will you handle issues you identified?"

    There could be potential biases in our data set, because some individuals may have not chosen to report/record the accident (hit and runs, etc.), so there may not be an accurate number of total accidents in California. However, this should not be a large issue because we are handling a large number of observations such as 2,500,000, where those rare cases should become small in comparison to such a large scale. Our large number of observations should handle the issue we have identified. 
    Additionally, there could be a historical bias, in the sense that gas vehicles are more prominent and have been around longer than electric vehicles so there would be more accident reports for gas vehicles than for electric. We can handle this issue by picking a proper period where electric vehicles and gas vehicles are comparable in popularity/usage. This way, we will be narrowing our sample population so that the sample size between ev car accidents and gas car accidents are more comparable. There could also be a potential bias in the usage of electric vehicles since California law is very conscious about greenhouse gas emissions so we will be identifying the state with the most comparable sample size as stated before. 
    We will detect these specific biases before analysis by thoroughly discussing our research question prior to finding datasets and identifying any additional variables that would skew our data and affect our question. During data analysis, we will identify any points in the data that does not match up with the rest of the data and conduct additional research to identify whether those specific data points are abnormalities or whether they are biases that we did not take into account to before. Then, we will explain the abnormalities/biases in our analysis and discuss how this affects our data. After we have already written our analysis of the data, we will proof read our conclusion for any other biases that may stand out and if they do occur, we will revise and address them again. Additionally, we may conduct a peer review (if allowed) with another group so we can have unbiased feedback.  
    There should not be any problems regarding data privacy, legality, or human/personal biases because the data sets have been obtained by official government publications.
   ]
  },
  {
   "cell_type": "markdown",
   "metadata": {},
   "source": [
    "# Team Expectations "
   ]
  },
  {
   "cell_type": "markdown",
   "metadata": {},
   "source": [
    "\n",
    "* *Keep in touch with group members via iMessage or Discord groupchat.*\n",
    "* *Fill out When2Meet's on time in order to coordinate meeting times.*\n",
    "* *Complete individually assigned tasks on time.*\n",
    "* *Communicate promptly if any change of plans arises.*\n"
   ]
  },
  {
   "cell_type": "markdown",
   "metadata": {},
   "source": [
    "# Project Timeline Proposal"
   ]
  },
  {
   "cell_type": "markdown",
   "metadata": {},
   "source": [
    "| Meeting Date  | Meeting Time| Completed Before Meeting  | Discuss at Meeting |\n",
    "|---|---|---|---|\n",
    "| 2/3  |  12 PM | Determind best form of communication  | Complete Previous Project Review Assignment | \n",
    "| 2/7  |  6:30PM |  Brainstorm ideas for project | Finish Project Proposal Assignment | \n",
    "| 2/10  | 12 PM | Find Data and work on Research  | Work on Checkpoint #1: Data   |\n",
    "| 2/25  | 6:30 PM  | Import & Wrangle Data | Complete Checkpoint #1: Data   |\n",
    "| 3/2 | 12 PM  | Work on Assigned Tasks | Work on Checkpoint #2: EDA |\n",
    "| 3/10  | 6:30 PM  | Complete analysis; Draft results/conclusion/discussion | Complete Checkpoint #2: EDA  |\n",
    "| 3/? | 12 PM  | Work on assigned Tasks | Work together to discuss and wrap up the Final Project |\n",
    "| 3/20  | Before 11:59 PM  | Make final edits and prepare to turn in Final Project | Turn in Final Project & Group Project Surveys |"
   ]
  }
 ],
 "metadata": {
  "kernelspec": {
   "display_name": "Python 3 (ipykernel)",
   "language": "python",
   "name": "python3"
  },
  "language_info": {
   "codemirror_mode": {
    "name": "ipython",
    "version": 3
   },
   "file_extension": ".py",
   "mimetype": "text/x-python",
   "name": "python",
   "nbconvert_exporter": "python",
   "pygments_lexer": "ipython3",
   "version": "3.9.7"
  }
 },
 "nbformat": 4,
 "nbformat_minor": 2
}
