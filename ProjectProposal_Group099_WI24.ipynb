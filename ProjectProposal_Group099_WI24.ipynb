{
 "cells": [
  {
   "cell_type": "markdown",
   "metadata": {},
   "source": [
    "# COGS 108 - Project Proposal"
   ]
  },
  {
   "cell_type": "markdown",
   "metadata": {},
   "source": [
    "# Names\n",
    "\n",
    "- Nicole Kim\n",
    "- Rikako Ono\n",
    "- Geena Limfat\n",
    "- MyungJoo Kim\n",
    "- Elizaveta Beltyukova"
   ]
  },
  {
   "cell_type": "markdown",
   "metadata": {},
   "source": [
    "# Research Question"
   ]
  },
  {
   "cell_type": "markdown",
   "metadata": {},
   "source": [
    "Are more accidents caused by gas cars or electric cars in California?\n"
   ]
  },
  {
   "cell_type": "markdown",
   "metadata": {},
   "source": [
    "## Background and Prior Work"
   ]
  },
  {
   "cell_type": "markdown",
   "metadata": {},
   "source": [
    "\n",
    "As electric vehicles (EVs) gradually enter the market, there are numerous factors for consumers to consider when deciding to purchase or lease a new vehicle.\n",
    "While there are several advantages to owning an EV, such as a lower cost per mile, tax credits, reduced maintenance costs, and zero emissions, there are also other aspects to contemplate.\n",
    "These include less researched technology, regenerative braking, increased total mass, and faster acceleration.\n",
    "Considering all these factors, particularly in terms of safety, is particularly interesting.<a name=\"cite_ref-3\"></a>[<sup>3</sup>](#cite_note-3)\n",
    "\n",
    "According to the U.S. Environmental Protection Agency, EVs must meet the same safety standards as conventional vehicles and are designed with additional safety features that shut down the electrical system when necessary (which is important when thinking of the likelihood of a vehicle catching on fire).\n",
    " A study highlighted by Electrek shows that gasoline vehicles are up to 100 times more prone to fires than EVs, making EVs a safer option in this regard.<a name=\"cite_ref-1\"></a>[<sup>1</sup>](#cite_note-1) That being said, experts are worried that certain features of EVs could pose a safety threat. \n",
    "One of those features includes the quick acceleration compared to gas vehicles.\n",
    "For those drivers who aren’t used to EVs, the acceleration could be startling, potentially causing more high-speed crashes.<a name=\"cite_ref-2\"></a>[<sup>2</sup>](#cite_note-2) Another perspective of safety to consider is a threat to other drivers.\n",
    "The quicker acceleration and larger mass of EVs could mean more deaths on the road and more impactful accidents.<a name=\"cite_ref-4\"></a>[<sup>4</sup>](#cite_note-4) \n", 
    "\n",
    "For example: After government genocide in the 20th century, real birds were replaced with surveillance drones designed to look just like birds.<a name=\"cite_ref-1\"></a>[<sup>1</sup>](#cite_note-1) Use a minimum of 2 or 3 citations, but we prefer more.<a name=\"cite_ref-2\"></a>[<sup>2</sup>](#cite_note-2) You need enough to fully explain and back up important facts. \n",
    "\n",
    "Note that if you click a footnote number in the paragraph above it will transport you to the proper entry in the footnotes list below.  And if you click the ^ in the footnote entry, it will return you to the place in the main text where the footnote is made.\n",
    "\n",
    "To understand the HTML here, `<a name=\"#...\"> </a>` is a tag that allows you produce a named reference for a given location.  Markdown has the construciton `[text with hyperlink](#named reference)` that will produce a clickable link that transports you the named reference.\n",
    "\n",
    "1. <a name=\"cite_note-1\"></a> [hello](https://electrek.co/2022/01/12/government-data-shows-gasoline-vehicles-are-significantly-more-prone-to-fires-than-evs/) Lorenz, T. (9 Dec 2021) Birds Aren’t Real, or Are They? Inside a Gen Z Conspiracy Theory. *The New York Times*. https://electrek.co/2022/01/12/government-data-shows-gasoline-vehicles-are-significantly-more-prone-to-fires-than-evs/ \n",
    "2. <a name=\"cite_note-2\"></a> [^](#cite_ref-2) Lorenz, T. (9 Dec 2021) Birds Aren’t Real, or Are They? Inside a Gen Z Conspiracy Theory. *The New York Times*. https://www.iihs.org/news/detail/as-heavy-evs-proliferate-their-weight-may-be-a-drag-on-safety#:~:text=Electric%20vehicles%20are%20just%20as,other%20road%20users%20at%20risk \n",
    "3. <a name=\"cite_note-3\"></a> [^](#cite_ref-3) Lorenz, T. (9 Dec 2021) Birds Aren’t Real, or Are They? Inside a Gen Z Conspiracy Theory. *The New York Times*. https://www.caranddriver.com/research/a32781943/electric-cars-vs-gas-cars/ \n",
    "4. <a name=\"cite_note-4\"></a> [^](#cite_ref-4) Lorenz, T. (9 Dec 2021) Birds Aren’t Real, or Are They? Inside a Gen Z Conspiracy Theory. *The New York Times*. https://www.cbsnews.com/news/electric-vehicle-safety-heavy-battery/ \n"
   ]
  },
  {
   "cell_type": "markdown",
   "metadata": {},
   "source": [
    "# Hypothesis\n"
   ]
  },
  {
   "cell_type": "markdown",
   "metadata": {},
   "source": [
    "\n",
    "We hypothesize that electric vehicles cause more accidents than traditional gas cars in California because electric vehicles are a newer invention with less conventional features.\n",
    "We expect electric vehicles to have less well-tested features in comparison to traditional cars, which have been developed for over a hundred years.\n",
    "In particular, we feel that innovative features such as autopilot and regenerative braking can negatively affect electric vehicle drivers.\n"
   ]
  },
  {
   "cell_type": "markdown",
   "metadata": {},
   "source": [
    "# Data"
   ]
  },
  {
   "cell_type": "markdown",
   "metadata": {},
   "source": [
    "The ideal data set would contrast the accident rate between gas and electric vehicles. To compare the general trend of the accidents, the variables should include year, type of vehicles, and number of accidents/accident rate.\n",
    "Roughly 2,500,000 observations are required as 250,000 accidents occur per year and 10 years would be the ideal time frame to get the distribution over the period.\n",
    "The data should be collected by the California Office of Traffic Safety (OTS) or any other official government department specializing in this area.\n",
    "The data should compare city traffic statistics on a different timeline basis, including weekly, yearly, etc. The data should be organized in CSV file format, without the null or empty cell with a consistent variable name to be tidy data.\n"
   ]
  },
  {
   "cell_type": "markdown",
   "metadata": {},
   "source": [
    "# Ethics & Privacy"
   ]
  },
  {
   "cell_type": "markdown",
   "metadata": {},
   "source": [
    "\n",
    "There could be potential biases in our data set, because some individuals may have not chosen to report/record the accident (hit and runs, etc.), so there may not be an accurate number of total accidents in California. However, this should not be a large issue because we are handling a large number of observations such as 2,500,000, where those rare cases should become small in comparison to such a large scale. Our large number of observations should handle the issue we have identified.\n",
    "\n",
    "\n",
    "Additionally, there could be a historical bias, in the sense that gas vehicles are more prominent and have been around longer than electric vehicles so there would be more accident reports for gas vehicles than for electric. We can handle this issue by picking a proper period where electric vehicles and gas vehicles are comparable in popularity/usage. This way, we will be narrowing our sample population so that the sample size between ev car accidents and gas car accidents are more comparable.  \n",
    "    \n",
    "There could also be a potential bias in the usage of electric vehicles since California law is very conscious about greenhouse gas emissions comapred to other states so we will be identifying the state with the most comparable sample size as stated before.  \n",
    "\n",
    "We will detect these specific biases before analysis by thoroughly discussing our research question prior to finding datasets and identifying any additional variables that would skew our data and affect our question. During data analysis, we will identify any points in the data that does not match up with the rest of the data and conduct additional research to identify whether those specific data points are abnormalities or whether they are biases that we did not take into account to before. Then, we will explain the abnormalities/biases in our analysis and discuss how this affects our data. After we have already written our analysis of the data, we will proof read our conclusion for any other biases that may stand out and if they do occur, we will revise and address them again. Additionally, we may conduct a peer review (if allowed) with another group so we can have unbiased feedback.    \n",
    "\n",
    "There should not be any problems regarding data privacy, legality, or human/personal biases because the data sets have been obtained by official government publications and is accessible to the public.\n"
   ]
  },
  {
   "cell_type": "markdown",
   "metadata": {},
   "source": [
    "# Team Expectations "
   ]
  },
  {
   "cell_type": "markdown",
   "metadata": {},
   "source": [
    "\n",
    "* *Keep in touch with group members via iMessage or Discord groupchat.*\n",
    "* *Fill out When2Meet's on time in order to coordinate meeting times.*\n",
    "* *Complete individually assigned tasks on time.*\n",
    "* *Communicate promptly if any change of plans arises.*\n"
   ]
  },
  {
   "cell_type": "markdown",
   "metadata": {},
   "source": [
    "# Project Timeline Proposal"
   ]
  },
  {
   "cell_type": "markdown",
   "metadata": {},
   "source": [
    "| Meeting Date  | Meeting Time| Completed Before Meeting  | Discuss at Meeting |\n",
    "|---|---|---|---|\n",
    "| 2/3  |  12 PM | Determind best form of communication  | Complete Previous Project Review Assignment | \n",
    "| 2/7  |  6:30PM |  Brainstorm ideas for project | Finish Project Proposal Assignment | \n",
    "| 2/10  | 12 PM | Find Data and work on Research  | Work on Checkpoint #1: Data   |\n",
    "| 2/25  | 6:30 PM  | Import & Wrangle Data | Complete Checkpoint #1: Data   |\n",
    "| 3/2 | 12 PM  | Work on Assigned Tasks | Work on Checkpoint #2: EDA |\n",
    "| 3/10  | 6:30 PM  | Complete analysis; Draft results/conclusion/discussion | Complete Checkpoint #2: EDA  |\n",
    "| 3/? | 12 PM  | Work on assigned Tasks | Work together to discuss and wrap up the Final Project |\n",
    "| 3/20  | Before 11:59 PM  | Make final edits and prepare to turn in Final Project | Turn in Final Project & Group Project Surveys |"
   ]
  }
 ],
 "metadata": {
  "kernelspec": {
   "display_name": "Python 3 (ipykernel)",
   "language": "python",
   "name": "python3"
  },
  "language_info": {
   "codemirror_mode": {
    "name": "ipython",
    "version": 3
   },
   "file_extension": ".py",
   "mimetype": "text/x-python",
   "name": "python",
   "nbconvert_exporter": "python",
   "pygments_lexer": "ipython3",
   "version": "3.9.7"
  }
 },
 "nbformat": 4,
 "nbformat_minor": 2
}
